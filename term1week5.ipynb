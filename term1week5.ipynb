{
 "cells": [
  {
   "cell_type": "code",
   "execution_count": 1,
   "metadata": {},
   "outputs": [
    {
     "name": "stdout",
     "output_type": "stream",
     "text": [
      "Autograder loaded successfully!\n",
      "Remember to always restart and run all from the Kernel menu before submitting!\n"
     ]
    }
   ],
   "source": [
    "import time\n",
    "from autograder_term1week5 import *\n",
    "_globals = globals()"
   ]
  },
  {
   "cell_type": "markdown",
   "metadata": {
    "deletable": false,
    "editable": false,
    "nbgrader": {
     "cell_type": "markdown",
     "checksum": "6c3ade8abe784da20239d50e8e0852dd",
     "grade": false,
     "grade_id": "cell-44c85011eb10c717",
     "locked": true,
     "schema_version": 3,
     "solution": false,
     "task": false
    }
   },
   "source": [
    "# <center> Introduction to Mathematical Computing </center>\n",
    "### <center>Phil Ramsden </center>\n",
    "\n",
    "# <center> Worksheet 1: Arithmetic and functions </center>\n",
    "\n",
    "**NOTE:** When answering a question, remember to remove the `raise NotImplementedError()` line."
   ]
  },
  {
   "cell_type": "markdown",
   "metadata": {
    "deletable": false,
    "editable": false,
    "nbgrader": {
     "cell_type": "markdown",
     "checksum": "0c391811af955b4d9c5a1ffe44f1b2d8",
     "grade": false,
     "grade_id": "cell-b69c3840c8ebe2d3",
     "locked": true,
     "schema_version": 3,
     "solution": false,
     "task": false
    }
   },
   "source": [
    "## Question 0: don't miss this bit!\n",
    "\n",
    "In the file called `my_username.txt`, type your <b>short-form College user name</b> (this will usually be one or more letters followed by three or more figures, such as qk4019). Don't use quote marks. Then save the file."
   ]
  },
  {
   "cell_type": "code",
   "execution_count": 31,
   "metadata": {
    "deletable": false,
    "editable": false,
    "nbgrader": {
     "cell_type": "code",
     "checksum": "dac6d1329d2ca4f1f835267696295705",
     "grade": true,
     "grade_id": "cell-7383640690456bdc",
     "locked": true,
     "points": 5,
     "schema_version": 3,
     "solution": false,
     "task": false
    }
   },
   "outputs": [
    {
     "name": "stdout",
     "output_type": "stream",
     "text": [
      "You've changed the contents of the file; thank you!\n",
      "Your username has been recognised; thank you!\n",
      "\n",
      "5 out of 5 marks\n"
     ]
    },
    {
     "data": {
      "text/plain": [
       "5"
      ]
     },
     "execution_count": 31,
     "metadata": {},
     "output_type": "execute_result"
    }
   ],
   "source": [
    "# 5 Marks\n",
    "# Do not try to delete this cell\n",
    "# Run this cell for grading of Question 0\n",
    "_globals = globals()\n",
    "question0(_globals)"
   ]
  },
  {
   "cell_type": "markdown",
   "metadata": {
    "deletable": false,
    "editable": false,
    "nbgrader": {
     "cell_type": "markdown",
     "checksum": "a91cd1a25abbec1780207317fbdfecb3",
     "grade": false,
     "grade_id": "cell-b3f8900b4ec047d7",
     "locked": true,
     "schema_version": 3,
     "solution": false,
     "task": false
    }
   },
   "source": [
    "## Question 1(i)\n",
    "\n",
    "Calculate: \n",
    "\n",
    "(a) $4^2+1$;\n",
    "(b) $4^{2+1}$;\n",
    "(c) $2/3$ as a decimal;\n",
    "(d) the largest integer smaller than $381/47$;\n",
    "(e) $4 \\times 2^5$;\n",
    "(f) $(4 \\times 2)^5$."
   ]
  },
  {
   "cell_type": "code",
   "execution_count": 10,
   "metadata": {
    "deletable": false,
    "nbgrader": {
     "cell_type": "code",
     "checksum": "e0dba863211a9b3d354ee3fb52f2458f",
     "grade": false,
     "grade_id": "cell-bcf9158f78bdb3a6",
     "locked": false,
     "schema_version": 3,
     "solution": true,
     "task": false
    }
   },
   "outputs": [
    {
     "name": "stdout",
     "output_type": "stream",
     "text": [
      "17\n",
      "64\n",
      "0.6666666666666666\n",
      "8\n",
      "128\n",
      "32768\n"
     ]
    }
   ],
   "source": [
    "# Assign your solutions to the questions above to the below variables.\n",
    "q1ia_answer = 4**2+1\n",
    "q1ib_answer = 4**(2+1)\n",
    "q1ic_answer = 2/3\n",
    "q1id_answer = int(381/47)\n",
    "q1ie_answer = 4*2**5\n",
    "q1if_answer = (4*2)**5\n",
    "print(q1ia_answer)\n",
    "print(q1ib_answer)\n",
    "print(q1ic_answer)\n",
    "print(q1id_answer)\n",
    "print(q1ie_answer)\n",
    "print(q1if_answer)\n",
    "# YOUR CODE HERE"
   ]
  },
  {
   "cell_type": "code",
   "execution_count": 153,
   "metadata": {
    "deletable": false,
    "nbgrader": {
     "cell_type": "code",
     "checksum": "1b096f4e6c7684bc24696df62f5c972d",
     "grade": false,
     "grade_id": "cell-593c9367c3c6115a",
     "locked": false,
     "schema_version": 3,
     "solution": true,
     "task": false
    }
   },
   "outputs": [
    {
     "name": "stdout",
     "output_type": "stream",
     "text": [
      "1237\n",
      "1157\n",
      "636\n",
      "976\n"
     ]
    },
    {
     "data": {
      "text/plain": [
       "1157"
      ]
     },
     "execution_count": 153,
     "metadata": {},
     "output_type": "execute_result"
    }
   ],
   "source": [
    "# Assign your solutions to the questions above to the below variables.\n",
    "q1iia_answer = 372517%1820\n",
    "q1iib_answer = (1417456+1191761)%1820\n",
    "q1iic_answer = (1417456*1191761)%1820\n",
    "start = time.time()\n",
    "q1iid_answer = builtins.pow(1417456,1191761,1820)\n",
    "duration = time.time() - start\n",
    "print(q1iia_answer)\n",
    "print(q1iib_answer)\n",
    "print(q1iic_answer)\n",
    "print(q1iid_answer)\n",
    "\n",
    "# YOUR CODE HERE\n",
    "372517%1820\n",
    "(1417456+1191761)%1820"
   ]
  },
  {
   "cell_type": "code",
   "execution_count": 11,
   "metadata": {
    "deletable": false,
    "editable": false,
    "nbgrader": {
     "cell_type": "code",
     "checksum": "7b81df1e09e5c6b2d5fb4d1ce8fdae47",
     "grade": true,
     "grade_id": "cell-b12f71f8ddaf1387",
     "locked": true,
     "points": 6,
     "schema_version": 3,
     "solution": false,
     "task": false
    }
   },
   "outputs": [
    {
     "name": "stdout",
     "output_type": "stream",
     "text": [
      "Question 1(i)a passed!\n",
      "Question 1(i)b passed!\n",
      "Question 1(i)c passed!\n",
      "Question 1(i)d passed!\n",
      "Question 1(i)e passed!\n",
      "Question 1(i)f passed!\n",
      "6 out of 6 tests passed\n"
     ]
    },
    {
     "data": {
      "text/plain": [
       "6"
      ]
     },
     "execution_count": 11,
     "metadata": {},
     "output_type": "execute_result"
    }
   ],
   "source": [
    "# 6 Marks\n",
    "# Do not try to delete this cell\n",
    "# Run this cell for grading\n",
    "_globals = globals()\n",
    "question1(_globals)"
   ]
  },
  {
   "cell_type": "markdown",
   "metadata": {
    "deletable": false,
    "editable": false,
    "nbgrader": {
     "cell_type": "markdown",
     "checksum": "3841c51a40749756e2626a0d12a737a9",
     "grade": false,
     "grade_id": "cell-8dfb5cc6a7f5666e",
     "locked": true,
     "schema_version": 3,
     "solution": false,
     "task": false
    }
   },
   "source": [
    "## Question 1(ii)\n",
    "\n",
    "Calculate:\n",
    "\n",
    "(a) The residue of $372517$ modulo $1820$.\n",
    "\n",
    "(b) The residue of $(1417456 + 1191761)$ modulo $1820$.\n",
    "\n",
    "(c) The residue of $(1417456 \\times 1191761)$ modulo $1820$.\n",
    "\n",
    "(d) The residue of $1417456^{1191761}$ modulo $1820$ (for best results use the <code>pow</code> function with three arguments)."
   ]
  },
  {
   "cell_type": "code",
   "execution_count": 12,
   "metadata": {
    "deletable": false,
    "editable": false,
    "nbgrader": {
     "cell_type": "code",
     "checksum": "41ef61d3c4e450f6b114d3d4bd3a0211",
     "grade": true,
     "grade_id": "cell-d5ff3aef45b2ad85",
     "locked": true,
     "points": 5,
     "schema_version": 3,
     "solution": false,
     "task": false
    }
   },
   "outputs": [
    {
     "name": "stdout",
     "output_type": "stream",
     "text": [
      "Question 1(ii)a passed!\n",
      "Question 1(ii)b passed!\n",
      "Question 1(ii)c passed!\n",
      "Question 1(ii)d passed!\n",
      "5 out of 5 tests passed\n"
     ]
    },
    {
     "data": {
      "text/plain": [
       "5"
      ]
     },
     "execution_count": 12,
     "metadata": {},
     "output_type": "execute_result"
    }
   ],
   "source": [
    "# 5 Marks\n",
    "# Do not try to delete `this cell\n",
    "# Run this cell for grading\n",
    "_globals = globals()\n",
    "question1_ii(_globals)"
   ]
  },
  {
   "cell_type": "markdown",
   "metadata": {
    "deletable": false,
    "editable": false,
    "nbgrader": {
     "cell_type": "markdown",
     "checksum": "124e5886e3981428ca0b07b439a2c37d",
     "grade": false,
     "grade_id": "cell-747815083de03188",
     "locked": true,
     "schema_version": 3,
     "solution": false,
     "task": false
    }
   },
   "source": [
    "## Question 2(i)\n",
    "\n",
    "Using the <code>math</code> module, calculate: (a) $\\sqrt{50}$; (b) $\\cos \\pi/7$; (c) $e^{e^2}$; (d) $\\ln 58$; (e) $\\log_{10} 58$; (f) $\\cot^{-1} 2$; (g) $\\coth^{-1} 2$."
   ]
  },
  {
   "cell_type": "code",
   "execution_count": 27,
   "metadata": {
    "deletable": false,
    "nbgrader": {
     "cell_type": "code",
     "checksum": "7a8870bc9edd36b5efad4d492565cfa0",
     "grade": false,
     "grade_id": "cell-c725db911b14d4ee",
     "locked": false,
     "schema_version": 3,
     "solution": true,
     "task": false
    }
   },
   "outputs": [
    {
     "name": "stdout",
     "output_type": "stream",
     "text": [
      "7.0710678118654755\n",
      "0.9009688679024191\n",
      "1618.1779919126518\n",
      "4.060443010546419\n",
      "1.7634279935629373\n",
      "0.46364760900080615\n",
      "0.5493061443340549\n"
     ]
    }
   ],
   "source": [
    "# begin by importing the necessary functions and constants from the math module\n",
    "# Assign your solutions to the questions above to the below variables.\n",
    "from math import*\n",
    "q2ia_answer = sqrt(50)\n",
    "q2ib_answer = cos(pi/7)\n",
    "q2ic_answer = e**e**2\n",
    "q2id_answer = log(58)\n",
    "q2ie_answer = log10(58)\n",
    "q2if_answer = atan(1/2)\n",
    "q2ig_answer = atanh(1/2)\n",
    "print(q2ia_answer)\n",
    "print(q2ib_answer)\n",
    "print(q2ic_answer)\n",
    "print(q2id_answer)\n",
    "print(q2ie_answer)\n",
    "print(q2if_answer)\n",
    "print(q2ig_answer)\n"
   ]
  },
  {
   "cell_type": "code",
   "execution_count": 28,
   "metadata": {
    "deletable": false,
    "editable": false,
    "nbgrader": {
     "cell_type": "code",
     "checksum": "4f2a40204813cc7c57f317c8ef47b289",
     "grade": true,
     "grade_id": "cell-660c3f636dc0be36",
     "locked": true,
     "points": 7,
     "schema_version": 3,
     "solution": false,
     "task": false
    }
   },
   "outputs": [
    {
     "name": "stdout",
     "output_type": "stream",
     "text": [
      "Question 2(i)a passed!\n",
      "Question 2(i)b passed!\n",
      "Question 2(i)c passed!\n",
      "Question 2(i)d passed!\n",
      "Question 2(i)e passed!\n",
      "Question 2(i)f passed!\n",
      "Question 2(i)g passed!\n",
      "7 out of 7 tests passed\n"
     ]
    },
    {
     "data": {
      "text/plain": [
       "7"
      ]
     },
     "execution_count": 28,
     "metadata": {},
     "output_type": "execute_result"
    }
   ],
   "source": [
    "# 7 Marks\n",
    "# Do not try to delete this cell\n",
    "# Run this cell for grading\n",
    "_globals = globals()\n",
    "question2_i(_globals)"
   ]
  },
  {
   "cell_type": "markdown",
   "metadata": {
    "deletable": false,
    "editable": false,
    "nbgrader": {
     "cell_type": "markdown",
     "checksum": "df00e8291cac792d68adbe2e1892b018",
     "grade": false,
     "grade_id": "cell-8d0e444fb14bac60",
     "locked": true,
     "schema_version": 3,
     "solution": false,
     "task": false
    }
   },
   "source": [
    "## Question 2(ii)\n",
    "\n",
    "The <code>numpy</code> module contains many of the same functions as <code>math</code> (though they're slightly different, in ways we'll explore). Recalculate (a) - (g) using this module instead."
   ]
  },
  {
   "cell_type": "code",
   "execution_count": 48,
   "metadata": {
    "deletable": false,
    "nbgrader": {
     "cell_type": "code",
     "checksum": "85ff574c4fc1ac525e1d8cdb2b449825",
     "grade": false,
     "grade_id": "cell-45ed8f2561c9f720",
     "locked": false,
     "schema_version": 3,
     "solution": true,
     "task": false
    }
   },
   "outputs": [
    {
     "name": "stdout",
     "output_type": "stream",
     "text": [
      "7.0710678118654755\n",
      "0.9009688679024191\n",
      "1618.1779919126518\n",
      "4.060443010546419\n",
      "1.7634279935629373\n",
      "0.46364760900080615\n",
      "0.5493061443340549\n"
     ]
    }
   ],
   "source": [
    "# begin by importing the necessary functions and constants from the numpy module\n",
    "# Assign your solutions to the questions above to the below variables.\n",
    "import numpy\n",
    "q2iia_answer = numpy.sqrt(50)\n",
    "q2iib_answer = numpy.cos(pi/7)\n",
    "q2iic_answer = e**e**2\n",
    "q2iid_answer = log(58)\n",
    "q2iie_answer = log10(58)\n",
    "q2iif_answer = arctan(1/2)\n",
    "q2iig_answer = arctanh(1/2)\n",
    "print(q2iia_answer)\n",
    "print(q2iib_answer)\n",
    "print(q2iic_answer)\n",
    "print(q2iid_answer)\n",
    "print(q2iie_answer)\n",
    "print(q2iif_answer)\n",
    "print(q2iig_answer)\n"
   ]
  },
  {
   "cell_type": "code",
   "execution_count": 49,
   "metadata": {
    "deletable": false,
    "editable": false,
    "nbgrader": {
     "cell_type": "code",
     "checksum": "a263f7d6628165f38a57828bfceef315",
     "grade": true,
     "grade_id": "cell-6390293366653fbb",
     "locked": true,
     "points": 7,
     "schema_version": 3,
     "solution": false,
     "task": false
    }
   },
   "outputs": [
    {
     "name": "stdout",
     "output_type": "stream",
     "text": [
      "Question 2(ii)a passed!\n",
      "Question 2(ii)b passed!\n",
      "Question 2(ii)c passed!\n",
      "Question 2(ii)d passed!\n",
      "Question 2(ii)e passed!\n",
      "Question 2(ii)f passed!\n",
      "Question 2(ii)g passed!\n",
      "7 out of 7 tests passed\n"
     ]
    },
    {
     "data": {
      "text/plain": [
       "7"
      ]
     },
     "execution_count": 49,
     "metadata": {},
     "output_type": "execute_result"
    }
   ],
   "source": [
    "# 7 Marks\n",
    "# Do not try to delete this cell\n",
    "# Run this cell for grading\n",
    "_globals = globals()\n",
    "question2_ii(_globals)"
   ]
  },
  {
   "cell_type": "markdown",
   "metadata": {
    "deletable": false,
    "editable": false,
    "nbgrader": {
     "cell_type": "markdown",
     "checksum": "802c41e13be9e5d5eabf71ebc294231c",
     "grade": false,
     "grade_id": "cell-561902afe142436b",
     "locked": true,
     "schema_version": 3,
     "solution": false,
     "task": false
    }
   },
   "source": [
    "## Question 3\n",
    "\n",
    "(a) Define variables $p=6$ and $q=9$, and calculate the quantity\n",
    "$$x=\\left(\\frac{q}{2}+\\sqrt{\\left[\\frac{q}{2}\\right]^2-\\left[\\frac{p}{3}\\right]^3}\\right)^{1/3}+\\left(\\frac{q}{2}-\\sqrt{\\left[\\frac{q}{2}\\right]^2-\\left[\\frac{p}{3}\\right]^3}\\right)^{1/3}.$$\n",
    "Verify Cardano's Theorem, that $x$ is a solution of the cubic\n",
    "$$x^3=p\\,x+q.$$"
   ]
  },
  {
   "cell_type": "code",
   "execution_count": 73,
   "metadata": {
    "deletable": false,
    "nbgrader": {
     "cell_type": "code",
     "checksum": "5fccb8a1ffcdf8a074404696f02cf69a",
     "grade": false,
     "grade_id": "cell-05998432c3deefe2",
     "locked": false,
     "schema_version": 3,
     "solution": true,
     "task": false
    }
   },
   "outputs": [
    {
     "name": "stdout",
     "output_type": "stream",
     "text": [
      "6\n",
      "9\n",
      "3.0\n",
      "0.0\n"
     ]
    }
   ],
   "source": [
    "# import any necessary functions\n",
    "# Assign your solutions to the questions above to the below variables.\n",
    "p = 6\n",
    "q = 9\n",
    "\n",
    "x = (q/2+((q/2)**2-(p/3)**3)**0.5)**1/3 + (q/2-((q/2)**2-(p/3)**3)**0.5)**1/3\n",
    "print(p)\n",
    "print(q)\n",
    "print(x)\n",
    "print(x**3-p*x-q)"
   ]
  },
  {
   "cell_type": "code",
   "execution_count": 57,
   "metadata": {
    "deletable": false,
    "editable": false,
    "nbgrader": {
     "cell_type": "code",
     "checksum": "856ce4fb9bee458309563e3e022bf3a0",
     "grade": true,
     "grade_id": "cell-721979068553d977",
     "locked": true,
     "points": 1,
     "schema_version": 3,
     "solution": false,
     "task": false
    }
   },
   "outputs": [
    {
     "name": "stdout",
     "output_type": "stream",
     "text": [
      "Question 3(a) passed!\n"
     ]
    }
   ],
   "source": [
    "#1 Mark\n",
    "assert(x == question3(p, q))\n",
    "print(\"Question 3(a) passed!\")"
   ]
  },
  {
   "cell_type": "markdown",
   "metadata": {
    "deletable": false,
    "editable": false,
    "nbgrader": {
     "cell_type": "markdown",
     "checksum": "fe01a571c5fdf493d4d2c49d44da2d79",
     "grade": false,
     "grade_id": "cell-5ac336c19d2557a1",
     "locked": true,
     "schema_version": 3,
     "solution": false,
     "task": false
    }
   },
   "source": [
    "(b) Repeat for $p=3$ and $q=18$."
   ]
  },
  {
   "cell_type": "code",
   "execution_count": 77,
   "metadata": {
    "deletable": false,
    "nbgrader": {
     "cell_type": "code",
     "checksum": "f043d0d996e2ce087e29f5f8d6c28dfe",
     "grade": false,
     "grade_id": "cell-972547089f6b9cc6",
     "locked": false,
     "schema_version": 3,
     "solution": true,
     "task": false
    }
   },
   "outputs": [
    {
     "name": "stdout",
     "output_type": "stream",
     "text": [
      "3\n",
      "18\n",
      "2.999999999999999\n",
      "-2.1316282072803006e-14\n"
     ]
    }
   ],
   "source": [
    "# import any necessary functions\n",
    "# Assign your solutions to the questions above to the below variables.\n",
    "p = 3\n",
    "q = 18\n",
    "\n",
    "x = (q/2+((q/2)**2-(p/3)**3)**0.5)**(1/3) + (q/2-((q/2)**2-(p/3)**3)**0.5)**(1/3)\n",
    "print(p)\n",
    "print(q)\n",
    "print(x)\n",
    "print(x**3-p*x-q)"
   ]
  },
  {
   "cell_type": "code",
   "execution_count": 78,
   "metadata": {
    "deletable": false,
    "editable": false,
    "nbgrader": {
     "cell_type": "code",
     "checksum": "8865082f4556aa2901cd485e11804746",
     "grade": true,
     "grade_id": "cell-22cd955862519f1c",
     "locked": true,
     "points": 1,
     "schema_version": 3,
     "solution": false,
     "task": false
    }
   },
   "outputs": [
    {
     "name": "stdout",
     "output_type": "stream",
     "text": [
      "Question 3(b) passed!\n"
     ]
    }
   ],
   "source": [
    "#1 Mark\n",
    "assert(x == question3(p, q))\n",
    "print(\"Question 3(b) passed!\")"
   ]
  },
  {
   "cell_type": "markdown",
   "metadata": {
    "deletable": false,
    "editable": false,
    "nbgrader": {
     "cell_type": "markdown",
     "checksum": "e40c852fea8f292ad5f5db441b955fa2",
     "grade": false,
     "grade_id": "cell-620d14d93e3d5296",
     "locked": true,
     "schema_version": 3,
     "solution": false,
     "task": false
    }
   },
   "source": [
    "(c) If you try to repeat for $p=6$ and $q=4$, you may run into a problem. Can you solve it?"
   ]
  },
  {
   "cell_type": "code",
   "execution_count": 82,
   "metadata": {
    "deletable": false,
    "nbgrader": {
     "cell_type": "code",
     "checksum": "64819104e4eca8d0ad8295f92f97c8a6",
     "grade": false,
     "grade_id": "cell-d7a2fd2365c71adf",
     "locked": false,
     "schema_version": 3,
     "solution": true,
     "task": false
    }
   },
   "outputs": [
    {
     "name": "stdout",
     "output_type": "stream",
     "text": [
      "6\n",
      "4\n",
      "(2.7320508075688776+0j)\n"
     ]
    }
   ],
   "source": [
    "# import any necessary functions\n",
    "# Assign your solutions to the questions above to the below variables.\n",
    "import cmath\n",
    "p = 6\n",
    "q = 4\n",
    "\n",
    "x = (q/2+((q/2)**2-(p/3)**3)**0.5)**(1/3) + (q/2-((q/2)**2-(p/3)**3)**0.5)**(1/3)\n",
    "print(p)\n",
    "print(q)\n",
    "print(x)\n"
   ]
  },
  {
   "cell_type": "code",
   "execution_count": 83,
   "metadata": {
    "deletable": false,
    "editable": false,
    "nbgrader": {
     "cell_type": "code",
     "checksum": "e91b86f093973dedb81c1771fab7461d",
     "grade": true,
     "grade_id": "cell-69e5c37ef72d2e4e",
     "locked": true,
     "points": 1,
     "schema_version": 3,
     "solution": false,
     "task": false
    }
   },
   "outputs": [
    {
     "name": "stdout",
     "output_type": "stream",
     "text": [
      "Question 3(c) passed!\n"
     ]
    }
   ],
   "source": [
    "#1 Mark\n",
    "assert(x == question3(p, q))\n",
    "print(\"Question 3(c) passed!\")"
   ]
  },
  {
   "cell_type": "markdown",
   "metadata": {
    "deletable": false,
    "editable": false,
    "nbgrader": {
     "cell_type": "markdown",
     "checksum": "19477811a2a12528ab8a80bab06fb55d",
     "grade": false,
     "grade_id": "cell-a7f0075b5fd5a715",
     "locked": true,
     "schema_version": 3,
     "solution": false,
     "task": false
    }
   },
   "source": [
    "## Question 4\n",
    "\n",
    "Experiment with <b>integer division</b>, and answer the following question:\n",
    "\n",
    "For integers $a$ and $b$, the code\n",
    "\n",
    "<code>a // b</code>\n",
    "\n",
    "always returns\n",
    "\n",
    "1. The least integer greater than or equal to $a/b$;\n",
    "2. The greatest integer less than or equal to $a/b$;\n",
    "3. The nearest integer to $a/b$;\n",
    "4. The number $a/b$, rounded towards zero;\n",
    "5. The number $a/b$, rounded away from zero;\n",
    "6. None of these; it depends on the signs of $a$ and $b$."
   ]
  },
  {
   "cell_type": "code",
   "execution_count": 116,
   "metadata": {
    "deletable": false,
    "nbgrader": {
     "cell_type": "code",
     "checksum": "d2ba38b9d426e63e2c408d14110632a8",
     "grade": false,
     "grade_id": "cell-87d8b531ab5cfff5",
     "locked": false,
     "schema_version": 3,
     "solution": true,
     "task": false
    }
   },
   "outputs": [
    {
     "data": {
      "text/plain": [
       "22"
      ]
     },
     "execution_count": 116,
     "metadata": {},
     "output_type": "execute_result"
    }
   ],
   "source": [
    "q4_answer = 2\n",
    "# Assign your solutions to the questions above to the below variables.\n",
    "45//2"
   ]
  },
  {
   "cell_type": "code",
   "execution_count": 117,
   "metadata": {
    "deletable": false,
    "editable": false,
    "nbgrader": {
     "cell_type": "code",
     "checksum": "07104f69bc583bbf39c90ab994dc9d93",
     "grade": true,
     "grade_id": "cell-2c3657af708f4b51",
     "locked": true,
     "points": 1,
     "schema_version": 3,
     "solution": false,
     "task": false
    }
   },
   "outputs": [
    {
     "name": "stdout",
     "output_type": "stream",
     "text": [
      "Question 4 passed!\n"
     ]
    }
   ],
   "source": [
    "#1 Mark\n",
    "assert(q4_answer == question4())\n",
    "print(\"Question 4 passed!\")"
   ]
  },
  {
   "cell_type": "markdown",
   "metadata": {
    "deletable": false,
    "editable": false,
    "nbgrader": {
     "cell_type": "markdown",
     "checksum": "45f81caf77d911cb9f1932a0ab4c57f6",
     "grade": false,
     "grade_id": "cell-eaeebe1c17ad4e8d",
     "locked": true,
     "schema_version": 3,
     "solution": false,
     "task": false
    }
   },
   "source": [
    "## Question 5 (i)\n",
    "\n",
    "The expressions (a) $\\sin^{-1}(-2)$; (b) $\\cos^{-1}(-2)$; (c) $\\tanh^{-1}(-2)$; (d) $\\ln(-2)$\n",
    "\n",
    "can all be given sensible mathematical values. Using functions from a suitable Python module, calculate these values."
   ]
  },
  {
   "cell_type": "code",
   "execution_count": 134,
   "metadata": {
    "deletable": false,
    "nbgrader": {
     "cell_type": "code",
     "checksum": "6b90ae48cbf3fe58cde661ddc5a63e54",
     "grade": false,
     "grade_id": "cell-8de18ecb33e6d43d",
     "locked": false,
     "schema_version": 3,
     "solution": true,
     "task": false
    }
   },
   "outputs": [
    {
     "name": "stdout",
     "output_type": "stream",
     "text": [
      "(-1.5707963267948966+1.3169578969248166j)\n",
      "(3.141592653589793-1.3169578969248166j)\n",
      "(-0.5493061443340549+1.5707963267948966j)\n",
      "(0.6931471805599453+3.141592653589793j)\n"
     ]
    }
   ],
   "source": [
    "# Assign your solutions to the questions above to the below variables.\n",
    "import cmath\n",
    "q5ia_answer =cmath.asin(-2)\n",
    "q5ib_answer =cmath.acos(-2)\n",
    "q5ic_answer =cmath.atanh(-2)\n",
    "q5id_answer =cmath.log(-2)\n",
    "\n",
    "print(q5ia_answer)\n",
    "print(q5ib_answer)\n",
    "print(q5ic_answer)\n",
    "print(q5id_answer)\n",
    "\n"
   ]
  },
  {
   "cell_type": "code",
   "execution_count": 135,
   "metadata": {
    "deletable": false,
    "editable": false,
    "nbgrader": {
     "cell_type": "code",
     "checksum": "87ab0a78c7a7e663dec30a0b8ed3189e",
     "grade": true,
     "grade_id": "cell-68368eae35986782",
     "locked": true,
     "points": 4,
     "schema_version": 3,
     "solution": false,
     "task": false
    }
   },
   "outputs": [
    {
     "name": "stdout",
     "output_type": "stream",
     "text": [
      "Question 5(i)a passed!\n",
      "Question 5(i)b passed!\n",
      "Question 5(i)c passed!\n",
      "Question 5(i)d passed!\n",
      "4 out of 4 tests passed\n"
     ]
    },
    {
     "data": {
      "text/plain": [
       "4"
      ]
     },
     "execution_count": 135,
     "metadata": {},
     "output_type": "execute_result"
    }
   ],
   "source": [
    "# 4 Marks\n",
    "# Do not try to delete this cell\n",
    "# Run this cell for grading\n",
    "_globals = globals()\n",
    "question5_i(_globals)"
   ]
  },
  {
   "cell_type": "markdown",
   "metadata": {
    "deletable": false,
    "editable": false,
    "nbgrader": {
     "cell_type": "markdown",
     "checksum": "9d2651b3fd2cd2d9d823e450c11d9244",
     "grade": false,
     "grade_id": "cell-00521d7e5c1c8dbd",
     "locked": true,
     "schema_version": 3,
     "solution": false,
     "task": false
    }
   },
   "source": [
    "## Question 5 (ii)\n",
    "\n",
    "The expressions (a) $\\sin^{-1}(-2)$; (b) $\\cos^{-1}(-2)$; (c) $\\tanh^{-1}(-2)$; (d) $\\ln(-2)$\n",
    "\n",
    "can actually all be calculated using only functions from the <code>numpy</code> module, though there's a bit of a trick to making it work. Find the trick, and make it work!"
   ]
  },
  {
   "cell_type": "code",
   "execution_count": 136,
   "metadata": {
    "deletable": false,
    "nbgrader": {
     "cell_type": "code",
     "checksum": "2f3f365f375c6a7ee588ff7de13a0111",
     "grade": false,
     "grade_id": "cell-966f608a75b6df3f",
     "locked": false,
     "schema_version": 3,
     "solution": true,
     "task": false
    }
   },
   "outputs": [
    {
     "name": "stdout",
     "output_type": "stream",
     "text": [
      "(-1.5707963267948966+1.3169578969248166j)\n",
      "(3.141592653589793-1.3169578969248166j)\n",
      "(-0.5493061443340549+1.5707963267948966j)\n",
      "(0.6931471805599453+3.141592653589793j)\n"
     ]
    }
   ],
   "source": [
    "# Assign your solutions to the questions above to the below variables.\n",
    "import numpy\n",
    "q5iia_answer =arcsin(-2+0j)\n",
    "q5iib_answer =arccos(-2+0j)\n",
    "q5iic_answer =arctanh(-2+0j)\n",
    "q5iid_answer =log(-2+0j)\n",
    "print(q5iia_answer)\n",
    "print(q5iib_answer)\n",
    "print(q5iic_answer)\n",
    "print(q5iid_answer)\n",
    "\n"
   ]
  },
  {
   "cell_type": "code",
   "execution_count": 137,
   "metadata": {
    "deletable": false,
    "editable": false,
    "nbgrader": {
     "cell_type": "code",
     "checksum": "8d97d8a4e1458313ff555e95cbba2c2c",
     "grade": true,
     "grade_id": "cell-c794ccf9d2ca10bb",
     "locked": true,
     "points": 4,
     "schema_version": 3,
     "solution": false,
     "task": false
    }
   },
   "outputs": [
    {
     "name": "stdout",
     "output_type": "stream",
     "text": [
      "Question 5(ii)a passed!\n",
      "Question 5(ii)b passed!\n",
      "Question 5(ii)c passed!\n",
      "Question 5(ii)d passed!\n",
      "4 out of 4 tests passed\n"
     ]
    },
    {
     "data": {
      "text/plain": [
       "4"
      ]
     },
     "execution_count": 137,
     "metadata": {},
     "output_type": "execute_result"
    }
   ],
   "source": [
    "# 4 Marks\n",
    "# Do not try to delete this cell\n",
    "# Run this cell for grading\n",
    "question5_ii(_globals)"
   ]
  },
  {
   "cell_type": "markdown",
   "metadata": {
    "deletable": false,
    "editable": false,
    "nbgrader": {
     "cell_type": "markdown",
     "checksum": "bb4f6e1935ba779e894cbaf8b3baa74e",
     "grade": false,
     "grade_id": "cell-5235ed1797ad6d74",
     "locked": true,
     "schema_version": 3,
     "solution": false,
     "task": false
    }
   },
   "source": [
    "## Question 5 (iii)\n",
    "\n",
    "(a) Using the built-in `pow` function, calculate the residue of $7725423^{3835624}$ modulo $25231211$, assigning your answer to the variable `q5iiia_answer`."
   ]
  },
  {
   "cell_type": "code",
   "execution_count": 146,
   "metadata": {
    "deletable": false,
    "nbgrader": {
     "cell_type": "code",
     "checksum": "a1111d63a113c8ca6990f3100925eb06",
     "grade": false,
     "grade_id": "cell-9c8b99fcd38bc268",
     "locked": false,
     "schema_version": 3,
     "solution": true,
     "task": false
    }
   },
   "outputs": [
    {
     "name": "stdout",
     "output_type": "stream",
     "text": [
      "20666298\n"
     ]
    }
   ],
   "source": [
    "# Assign your solution to the questions above to the below variables.\n",
    "import builtins\n",
    "question5iiia_answer = builtins.pow(7725423,3835624,25231211)\n",
    "print(question5iiia_answer)\n",
    "\n"
   ]
  },
  {
   "cell_type": "code",
   "execution_count": 147,
   "metadata": {
    "deletable": false,
    "editable": false,
    "nbgrader": {
     "cell_type": "code",
     "checksum": "815bbd2f7963c0f345a8ebc3be45480f",
     "grade": true,
     "grade_id": "cell-e00764f878a596d0",
     "locked": true,
     "points": 1,
     "schema_version": 3,
     "solution": false,
     "task": false
    }
   },
   "outputs": [
    {
     "name": "stdout",
     "output_type": "stream",
     "text": [
      "test case passed!\n"
     ]
    }
   ],
   "source": [
    "# 1 Mark\n",
    "assert(question5iiia_answer == question5_iii_a())\n",
    "print('test case passed!')"
   ]
  },
  {
   "cell_type": "markdown",
   "metadata": {
    "deletable": false,
    "editable": false,
    "nbgrader": {
     "cell_type": "markdown",
     "checksum": "5415a03505617d5d0f43f98c291bbfe6",
     "grade": false,
     "grade_id": "cell-96a67806dfc62c06",
     "locked": true,
     "schema_version": 3,
     "solution": false,
     "task": false
    }
   },
   "source": [
    "(b) Wild-card import all the functions from the `math` module as follows:"
   ]
  },
  {
   "cell_type": "code",
   "execution_count": null,
   "metadata": {
    "deletable": false,
    "editable": false,
    "nbgrader": {
     "cell_type": "code",
     "checksum": "fd8165dde9c58ddcad7def9b2067fba5",
     "grade": false,
     "grade_id": "cell-cccf802c90bec264",
     "locked": true,
     "schema_version": 3,
     "solution": false,
     "task": false
    }
   },
   "outputs": [],
   "source": [
    "from math import *"
   ]
  },
  {
   "cell_type": "markdown",
   "metadata": {
    "deletable": false,
    "editable": false,
    "nbgrader": {
     "cell_type": "markdown",
     "checksum": "4f7837a95770a455d0f3b58856149430",
     "grade": false,
     "grade_id": "cell-c5c51c79dfcd8115",
     "locked": true,
     "schema_version": 3,
     "solution": false,
     "task": false
    }
   },
   "source": [
    "Then, attempt your calculation in part (a) for a second time, and note what happens. \n",
    "\n",
    "Explore a bit further if you like. How would you explain what has happened?\n",
    "\n",
    "<ol>\n",
    "    <li>Wild-card importing all the functions from the <code>math</code> module breaks the <code>pow</code> function; no function called <code>pow</code> is now available.</li>\n",
    "    <li>Wild-card importing all the functions from the <code>math</code> module produces a namespace clash between the function called <code>pow</code> that belongs to that module and the built-in function of the same name; from now on, only the <code>math</code> version works, and that can't be used to calculate modular powers.</li>\n",
    "    <li>Wild-card importing all the functions from the <code>math</code> module produces a namespace clash between the function called <code>pow</code> that belongs to that module and the built-in function of the same name; from now on, only the built-in version works, and that can't be used to calculate modular powers.</li>\n",
    "</ol>\n",
    "\n",
    "Fill in the correct numerical value, 1, 2 or 3, below."
   ]
  },
  {
   "cell_type": "code",
   "execution_count": 160,
   "metadata": {
    "deletable": false,
    "nbgrader": {
     "cell_type": "code",
     "checksum": "1c6dbe533a314f4ff86b617461b9d5c3",
     "grade": false,
     "grade_id": "cell-51434c057025b9dd",
     "locked": false,
     "schema_version": 3,
     "solution": true,
     "task": false
    }
   },
   "outputs": [],
   "source": [
    "question5iiib_answer = 2\n"
   ]
  },
  {
   "cell_type": "code",
   "execution_count": 161,
   "metadata": {
    "deletable": false,
    "editable": false,
    "nbgrader": {
     "cell_type": "code",
     "checksum": "1100b79e94ffddb972ecc48df626c759",
     "grade": true,
     "grade_id": "cell-b0a3a702d0ea9cfd",
     "locked": true,
     "points": 1,
     "schema_version": 3,
     "solution": false,
     "task": false
    }
   },
   "outputs": [
    {
     "name": "stdout",
     "output_type": "stream",
     "text": [
      "test case passed!\n"
     ]
    }
   ],
   "source": [
    "# 1 Mark\n",
    "assert(question5iiib_answer == question5_iii_b())\n",
    "print('test case passed!')"
   ]
  },
  {
   "cell_type": "markdown",
   "metadata": {
    "deletable": false,
    "editable": false,
    "nbgrader": {
     "cell_type": "markdown",
     "checksum": "0acbfd2d9da94bff4bfe2e1fb75000f9",
     "grade": false,
     "grade_id": "cell-3d8c777be61a4e64",
     "locked": true,
     "schema_version": 3,
     "solution": false,
     "task": false
    }
   },
   "source": [
    "(c) Try the following lines of code:"
   ]
  },
  {
   "cell_type": "code",
   "execution_count": null,
   "metadata": {
    "deletable": false,
    "editable": false,
    "nbgrader": {
     "cell_type": "code",
     "checksum": "70638b30263ff83217c0934458ec55af",
     "grade": false,
     "grade_id": "cell-5377afcb43c8e112",
     "locked": true,
     "schema_version": 3,
     "solution": false,
     "task": false
    }
   },
   "outputs": [],
   "source": [
    "from math import *\n",
    "import builtins\n",
    "builtins.pow(7725423,3835624,25231211)"
   ]
  },
  {
   "cell_type": "markdown",
   "metadata": {
    "deletable": false,
    "editable": false,
    "nbgrader": {
     "cell_type": "markdown",
     "checksum": "7dd61e608d72194b7ca70240cf1b97da",
     "grade": false,
     "grade_id": "cell-19753822f21f4727",
     "locked": true,
     "schema_version": 3,
     "solution": false,
     "task": false
    }
   },
   "source": [
    "Which of the following statements is the closest to the truth?\n",
    "\n",
    "<ol>\n",
    "    <li>Once a built-in function has been overwritten in a namespace clash, it can't be used again unless the session is restarted.</li>\n",
    "    <li>Namespace clashes with built-in functions can be rectified by importing the <code>builtins</code> module, meaning that there's no need to worry about them.</li>\n",
    "    <li>Namespace clashes with built-in functions can be rectified by importing the <code>builtins</code> module, so they may not be fatal, but they're still worth taking care to avoid.</li>\n",
    "</ol>\n",
    "\n",
    "(This may be a bit of a matter of opinion; but our opinion on it is strong, and we bet you can guess it.)"
   ]
  },
  {
   "cell_type": "code",
   "execution_count": 162,
   "metadata": {
    "deletable": false,
    "nbgrader": {
     "cell_type": "code",
     "checksum": "c0a12ae8e64d131e9c752e83106524a2",
     "grade": false,
     "grade_id": "cell-786585eb3ddbb615",
     "locked": false,
     "schema_version": 3,
     "solution": true,
     "task": false
    }
   },
   "outputs": [],
   "source": [
    "question5iiic_answer = 3\n",
    "# YOUR CODE HERE\n"
   ]
  },
  {
   "cell_type": "code",
   "execution_count": 163,
   "metadata": {
    "deletable": false,
    "editable": false,
    "nbgrader": {
     "cell_type": "code",
     "checksum": "730a195305d80f4efbe4982ff972bb65",
     "grade": true,
     "grade_id": "cell-f1e70db763174c19",
     "locked": true,
     "points": 1,
     "schema_version": 3,
     "solution": false,
     "task": false
    }
   },
   "outputs": [
    {
     "name": "stdout",
     "output_type": "stream",
     "text": [
      "test case passed!\n"
     ]
    }
   ],
   "source": [
    "# 1 Mark\n",
    "assert(question5iiic_answer == question5_iii_c())\n",
    "print('test case passed!')"
   ]
  },
  {
   "cell_type": "code",
   "execution_count": null,
   "metadata": {},
   "outputs": [],
   "source": []
  }
 ],
 "metadata": {
  "kernelspec": {
   "display_name": "Python 3 (ipykernel)",
   "language": "python",
   "name": "python3"
  },
  "language_info": {
   "codemirror_mode": {
    "name": "ipython",
    "version": 3
   },
   "file_extension": ".py",
   "mimetype": "text/x-python",
   "name": "python",
   "nbconvert_exporter": "python",
   "pygments_lexer": "ipython3",
   "version": "3.9.13"
  }
 },
 "nbformat": 4,
 "nbformat_minor": 4
}
